{
 "cells": [
  {
   "cell_type": "code",
   "execution_count": 1,
   "metadata": {},
   "outputs": [],
   "source": [
    "import pandas as pd\n",
    "import numpy as np\n",
    "import matplotlib.pyplot as plt\n",
    "import seaborn as sns"
   ]
  },
  {
   "cell_type": "code",
   "execution_count": 2,
   "metadata": {},
   "outputs": [],
   "source": [
    "covid_df = pd.read_csv(\"covid_19_india.csv\")"
   ]
  },
  {
   "cell_type": "code",
   "execution_count": 3,
   "metadata": {},
   "outputs": [
    {
     "data": {
      "text/html": [
       "<div>\n",
       "<style scoped>\n",
       "    .dataframe tbody tr th:only-of-type {\n",
       "        vertical-align: middle;\n",
       "    }\n",
       "\n",
       "    .dataframe tbody tr th {\n",
       "        vertical-align: top;\n",
       "    }\n",
       "\n",
       "    .dataframe thead th {\n",
       "        text-align: right;\n",
       "    }\n",
       "</style>\n",
       "<table border=\"1\" class=\"dataframe\">\n",
       "  <thead>\n",
       "    <tr style=\"text-align: right;\">\n",
       "      <th></th>\n",
       "      <th>Sno</th>\n",
       "      <th>Date</th>\n",
       "      <th>Time</th>\n",
       "      <th>State/UnionTerritory</th>\n",
       "      <th>ConfirmedIndianNational</th>\n",
       "      <th>ConfirmedForeignNational</th>\n",
       "      <th>Cured</th>\n",
       "      <th>Deaths</th>\n",
       "      <th>Confirmed</th>\n",
       "    </tr>\n",
       "  </thead>\n",
       "  <tbody>\n",
       "    <tr>\n",
       "      <th>0</th>\n",
       "      <td>1</td>\n",
       "      <td>30/01/20</td>\n",
       "      <td>6:00 PM</td>\n",
       "      <td>Kerala</td>\n",
       "      <td>1</td>\n",
       "      <td>0</td>\n",
       "      <td>0</td>\n",
       "      <td>0</td>\n",
       "      <td>1</td>\n",
       "    </tr>\n",
       "    <tr>\n",
       "      <th>1</th>\n",
       "      <td>2</td>\n",
       "      <td>31/01/20</td>\n",
       "      <td>6:00 PM</td>\n",
       "      <td>Kerala</td>\n",
       "      <td>1</td>\n",
       "      <td>0</td>\n",
       "      <td>0</td>\n",
       "      <td>0</td>\n",
       "      <td>1</td>\n",
       "    </tr>\n",
       "    <tr>\n",
       "      <th>2</th>\n",
       "      <td>3</td>\n",
       "      <td>01/02/20</td>\n",
       "      <td>6:00 PM</td>\n",
       "      <td>Kerala</td>\n",
       "      <td>2</td>\n",
       "      <td>0</td>\n",
       "      <td>0</td>\n",
       "      <td>0</td>\n",
       "      <td>2</td>\n",
       "    </tr>\n",
       "    <tr>\n",
       "      <th>3</th>\n",
       "      <td>4</td>\n",
       "      <td>02/02/20</td>\n",
       "      <td>6:00 PM</td>\n",
       "      <td>Kerala</td>\n",
       "      <td>3</td>\n",
       "      <td>0</td>\n",
       "      <td>0</td>\n",
       "      <td>0</td>\n",
       "      <td>3</td>\n",
       "    </tr>\n",
       "    <tr>\n",
       "      <th>4</th>\n",
       "      <td>5</td>\n",
       "      <td>03/02/20</td>\n",
       "      <td>6:00 PM</td>\n",
       "      <td>Kerala</td>\n",
       "      <td>3</td>\n",
       "      <td>0</td>\n",
       "      <td>0</td>\n",
       "      <td>0</td>\n",
       "      <td>3</td>\n",
       "    </tr>\n",
       "  </tbody>\n",
       "</table>\n",
       "</div>"
      ],
      "text/plain": [
       "   Sno      Date     Time State/UnionTerritory ConfirmedIndianNational  \\\n",
       "0    1  30/01/20  6:00 PM               Kerala                       1   \n",
       "1    2  31/01/20  6:00 PM               Kerala                       1   \n",
       "2    3  01/02/20  6:00 PM               Kerala                       2   \n",
       "3    4  02/02/20  6:00 PM               Kerala                       3   \n",
       "4    5  03/02/20  6:00 PM               Kerala                       3   \n",
       "\n",
       "  ConfirmedForeignNational  Cured  Deaths  Confirmed  \n",
       "0                        0      0       0          1  \n",
       "1                        0      0       0          1  \n",
       "2                        0      0       0          2  \n",
       "3                        0      0       0          3  \n",
       "4                        0      0       0          3  "
      ]
     },
     "execution_count": 3,
     "metadata": {},
     "output_type": "execute_result"
    }
   ],
   "source": [
    "covid_df.head()"
   ]
  },
  {
   "cell_type": "code",
   "execution_count": 4,
   "metadata": {},
   "outputs": [
    {
     "name": "stdout",
     "output_type": "stream",
     "text": [
      "<class 'pandas.core.frame.DataFrame'>\n",
      "RangeIndex: 9291 entries, 0 to 9290\n",
      "Data columns (total 9 columns):\n",
      " #   Column                    Non-Null Count  Dtype \n",
      "---  ------                    --------------  ----- \n",
      " 0   Sno                       9291 non-null   int64 \n",
      " 1   Date                      9291 non-null   object\n",
      " 2   Time                      9291 non-null   object\n",
      " 3   State/UnionTerritory      9291 non-null   object\n",
      " 4   ConfirmedIndianNational   9291 non-null   object\n",
      " 5   ConfirmedForeignNational  9291 non-null   object\n",
      " 6   Cured                     9291 non-null   int64 \n",
      " 7   Deaths                    9291 non-null   int64 \n",
      " 8   Confirmed                 9291 non-null   int64 \n",
      "dtypes: int64(4), object(5)\n",
      "memory usage: 653.4+ KB\n"
     ]
    }
   ],
   "source": [
    "covid_df.info()"
   ]
  },
  {
   "cell_type": "code",
   "execution_count": 6,
   "metadata": {},
   "outputs": [
    {
     "data": {
      "text/html": [
       "<div>\n",
       "<style scoped>\n",
       "    .dataframe tbody tr th:only-of-type {\n",
       "        vertical-align: middle;\n",
       "    }\n",
       "\n",
       "    .dataframe tbody tr th {\n",
       "        vertical-align: top;\n",
       "    }\n",
       "\n",
       "    .dataframe thead th {\n",
       "        text-align: right;\n",
       "    }\n",
       "</style>\n",
       "<table border=\"1\" class=\"dataframe\">\n",
       "  <thead>\n",
       "    <tr style=\"text-align: right;\">\n",
       "      <th></th>\n",
       "      <th>Sno</th>\n",
       "      <th>Cured</th>\n",
       "      <th>Deaths</th>\n",
       "      <th>Confirmed</th>\n",
       "    </tr>\n",
       "  </thead>\n",
       "  <tbody>\n",
       "    <tr>\n",
       "      <th>count</th>\n",
       "      <td>9291.000000</td>\n",
       "      <td>9.291000e+03</td>\n",
       "      <td>9291.000000</td>\n",
       "      <td>9.291000e+03</td>\n",
       "    </tr>\n",
       "    <tr>\n",
       "      <th>mean</th>\n",
       "      <td>4646.000000</td>\n",
       "      <td>7.863266e+04</td>\n",
       "      <td>1487.620385</td>\n",
       "      <td>9.183978e+04</td>\n",
       "    </tr>\n",
       "    <tr>\n",
       "      <th>std</th>\n",
       "      <td>2682.225009</td>\n",
       "      <td>1.931102e+05</td>\n",
       "      <td>4713.813690</td>\n",
       "      <td>2.166014e+05</td>\n",
       "    </tr>\n",
       "    <tr>\n",
       "      <th>min</th>\n",
       "      <td>1.000000</td>\n",
       "      <td>0.000000e+00</td>\n",
       "      <td>0.000000</td>\n",
       "      <td>0.000000e+00</td>\n",
       "    </tr>\n",
       "    <tr>\n",
       "      <th>25%</th>\n",
       "      <td>2323.500000</td>\n",
       "      <td>1.520000e+02</td>\n",
       "      <td>2.000000</td>\n",
       "      <td>5.385000e+02</td>\n",
       "    </tr>\n",
       "    <tr>\n",
       "      <th>50%</th>\n",
       "      <td>4646.000000</td>\n",
       "      <td>4.308000e+03</td>\n",
       "      <td>66.000000</td>\n",
       "      <td>6.832000e+03</td>\n",
       "    </tr>\n",
       "    <tr>\n",
       "      <th>75%</th>\n",
       "      <td>6968.500000</td>\n",
       "      <td>5.772650e+04</td>\n",
       "      <td>926.500000</td>\n",
       "      <td>7.885600e+04</td>\n",
       "    </tr>\n",
       "    <tr>\n",
       "      <th>max</th>\n",
       "      <td>9291.000000</td>\n",
       "      <td>1.737080e+06</td>\n",
       "      <td>47827.000000</td>\n",
       "      <td>1.859367e+06</td>\n",
       "    </tr>\n",
       "  </tbody>\n",
       "</table>\n",
       "</div>"
      ],
      "text/plain": [
       "               Sno         Cured        Deaths     Confirmed\n",
       "count  9291.000000  9.291000e+03   9291.000000  9.291000e+03\n",
       "mean   4646.000000  7.863266e+04   1487.620385  9.183978e+04\n",
       "std    2682.225009  1.931102e+05   4713.813690  2.166014e+05\n",
       "min       1.000000  0.000000e+00      0.000000  0.000000e+00\n",
       "25%    2323.500000  1.520000e+02      2.000000  5.385000e+02\n",
       "50%    4646.000000  4.308000e+03     66.000000  6.832000e+03\n",
       "75%    6968.500000  5.772650e+04    926.500000  7.885600e+04\n",
       "max    9291.000000  1.737080e+06  47827.000000  1.859367e+06"
      ]
     },
     "execution_count": 6,
     "metadata": {},
     "output_type": "execute_result"
    }
   ],
   "source": [
    "covid_df.describe()"
   ]
  },
  {
   "cell_type": "code",
   "execution_count": 7,
   "metadata": {},
   "outputs": [
    {
     "data": {
      "text/plain": [
       "(9291, 9)"
      ]
     },
     "execution_count": 7,
     "metadata": {},
     "output_type": "execute_result"
    }
   ],
   "source": [
    "covid_df.shape"
   ]
  },
  {
   "cell_type": "code",
   "execution_count": 8,
   "metadata": {},
   "outputs": [
    {
     "data": {
      "text/plain": [
       "Sno                         0\n",
       "Date                        0\n",
       "Time                        0\n",
       "State/UnionTerritory        0\n",
       "ConfirmedIndianNational     0\n",
       "ConfirmedForeignNational    0\n",
       "Cured                       0\n",
       "Deaths                      0\n",
       "Confirmed                   0\n",
       "dtype: int64"
      ]
     },
     "execution_count": 8,
     "metadata": {},
     "output_type": "execute_result"
    }
   ],
   "source": [
    "covid_df.isnull().sum()"
   ]
  },
  {
   "cell_type": "code",
   "execution_count": 9,
   "metadata": {},
   "outputs": [
    {
     "data": {
      "text/html": [
       "<div>\n",
       "<style scoped>\n",
       "    .dataframe tbody tr th:only-of-type {\n",
       "        vertical-align: middle;\n",
       "    }\n",
       "\n",
       "    .dataframe tbody tr th {\n",
       "        vertical-align: top;\n",
       "    }\n",
       "\n",
       "    .dataframe thead th {\n",
       "        text-align: right;\n",
       "    }\n",
       "</style>\n",
       "<table border=\"1\" class=\"dataframe\">\n",
       "  <thead>\n",
       "    <tr style=\"text-align: right;\">\n",
       "      <th></th>\n",
       "      <th>Sno</th>\n",
       "      <th>Cured</th>\n",
       "      <th>Deaths</th>\n",
       "      <th>Confirmed</th>\n",
       "    </tr>\n",
       "  </thead>\n",
       "  <tbody>\n",
       "    <tr>\n",
       "      <th>Sno</th>\n",
       "      <td>1.000000</td>\n",
       "      <td>0.432994</td>\n",
       "      <td>0.290920</td>\n",
       "      <td>0.425833</td>\n",
       "    </tr>\n",
       "    <tr>\n",
       "      <th>Cured</th>\n",
       "      <td>0.432994</td>\n",
       "      <td>1.000000</td>\n",
       "      <td>0.893227</td>\n",
       "      <td>0.995012</td>\n",
       "    </tr>\n",
       "    <tr>\n",
       "      <th>Deaths</th>\n",
       "      <td>0.290920</td>\n",
       "      <td>0.893227</td>\n",
       "      <td>1.000000</td>\n",
       "      <td>0.913777</td>\n",
       "    </tr>\n",
       "    <tr>\n",
       "      <th>Confirmed</th>\n",
       "      <td>0.425833</td>\n",
       "      <td>0.995012</td>\n",
       "      <td>0.913777</td>\n",
       "      <td>1.000000</td>\n",
       "    </tr>\n",
       "  </tbody>\n",
       "</table>\n",
       "</div>"
      ],
      "text/plain": [
       "                Sno     Cured    Deaths  Confirmed\n",
       "Sno        1.000000  0.432994  0.290920   0.425833\n",
       "Cured      0.432994  1.000000  0.893227   0.995012\n",
       "Deaths     0.290920  0.893227  1.000000   0.913777\n",
       "Confirmed  0.425833  0.995012  0.913777   1.000000"
      ]
     },
     "execution_count": 9,
     "metadata": {},
     "output_type": "execute_result"
    }
   ],
   "source": [
    "covid_df.corr()"
   ]
  },
  {
   "cell_type": "code",
   "execution_count": 10,
   "metadata": {},
   "outputs": [
    {
     "data": {
      "image/png": "[encoded data removed]",
      "text/plain": [
       "<Figure size 432x288 with 2 Axes>"
      ]
     },
     "metadata": {
      "needs_background": "light"
     },
     "output_type": "display_data"
    }
   ],
   "source": [
    "plt.figure()\n",
    "sns.heatmap(covid_df.corr(),annot=True)\n",
    "plt.show()"
   ]
  },
  {
   "cell_type": "code",
   "execution_count": null,
   "metadata": {},
   "outputs": [],
   "source": [
    "# we can drop the coloums which are not needed\n",
    "covid_df = covid_df.drop([\"Sno\",\"ConfirmedIndianNational\",\"ConfirmedForeignNational\"],axis=1)\n",
    "print(covid_df)\n",
    "covid_df.shape"
   ]
  },
  {
   "cell_type": "code",
   "execution_count": 11,
   "metadata": {},
   "outputs": [],
   "source": [
    "# the columns which we want to work\n",
    "covid_df = covid_df[[\"Date\",\"Time\",\"State/UnionTerritory\",\"Cured\",\"Deaths\",\"Confirmed\"]]"
   ]
  },
  {
   "cell_type": "code",
   "execution_count": 12,
   "metadata": {},
   "outputs": [
    {
     "data": {
      "text/html": [
       "<div>\n",
       "<style scoped>\n",
       "    .dataframe tbody tr th:only-of-type {\n",
       "        vertical-align: middle;\n",
       "    }\n",
       "\n",
       "    .dataframe tbody tr th {\n",
       "        vertical-align: top;\n",
       "    }\n",
       "\n",
       "    .dataframe thead th {\n",
       "        text-align: right;\n",
       "    }\n",
       "</style>\n",
       "<table border=\"1\" class=\"dataframe\">\n",
       "  <thead>\n",
       "    <tr style=\"text-align: right;\">\n",
       "      <th></th>\n",
       "      <th>Date</th>\n",
       "      <th>Time</th>\n",
       "      <th>State/UnionTerritory</th>\n",
       "      <th>Cured</th>\n",
       "      <th>Deaths</th>\n",
       "      <th>Confirmed</th>\n",
       "    </tr>\n",
       "  </thead>\n",
       "  <tbody>\n",
       "    <tr>\n",
       "      <th>0</th>\n",
       "      <td>30/01/20</td>\n",
       "      <td>6:00 PM</td>\n",
       "      <td>Kerala</td>\n",
       "      <td>0</td>\n",
       "      <td>0</td>\n",
       "      <td>1</td>\n",
       "    </tr>\n",
       "    <tr>\n",
       "      <th>1</th>\n",
       "      <td>31/01/20</td>\n",
       "      <td>6:00 PM</td>\n",
       "      <td>Kerala</td>\n",
       "      <td>0</td>\n",
       "      <td>0</td>\n",
       "      <td>1</td>\n",
       "    </tr>\n",
       "    <tr>\n",
       "      <th>2</th>\n",
       "      <td>01/02/20</td>\n",
       "      <td>6:00 PM</td>\n",
       "      <td>Kerala</td>\n",
       "      <td>0</td>\n",
       "      <td>0</td>\n",
       "      <td>2</td>\n",
       "    </tr>\n",
       "    <tr>\n",
       "      <th>3</th>\n",
       "      <td>02/02/20</td>\n",
       "      <td>6:00 PM</td>\n",
       "      <td>Kerala</td>\n",
       "      <td>0</td>\n",
       "      <td>0</td>\n",
       "      <td>3</td>\n",
       "    </tr>\n",
       "    <tr>\n",
       "      <th>4</th>\n",
       "      <td>03/02/20</td>\n",
       "      <td>6:00 PM</td>\n",
       "      <td>Kerala</td>\n",
       "      <td>0</td>\n",
       "      <td>0</td>\n",
       "      <td>3</td>\n",
       "    </tr>\n",
       "    <tr>\n",
       "      <th>...</th>\n",
       "      <td>...</td>\n",
       "      <td>...</td>\n",
       "      <td>...</td>\n",
       "      <td>...</td>\n",
       "      <td>...</td>\n",
       "      <td>...</td>\n",
       "    </tr>\n",
       "    <tr>\n",
       "      <th>9286</th>\n",
       "      <td>09/12/20</td>\n",
       "      <td>8:00 AM</td>\n",
       "      <td>Telengana</td>\n",
       "      <td>266120</td>\n",
       "      <td>1480</td>\n",
       "      <td>275261</td>\n",
       "    </tr>\n",
       "    <tr>\n",
       "      <th>9287</th>\n",
       "      <td>09/12/20</td>\n",
       "      <td>8:00 AM</td>\n",
       "      <td>Tripura</td>\n",
       "      <td>32169</td>\n",
       "      <td>373</td>\n",
       "      <td>32945</td>\n",
       "    </tr>\n",
       "    <tr>\n",
       "      <th>9288</th>\n",
       "      <td>09/12/20</td>\n",
       "      <td>8:00 AM</td>\n",
       "      <td>Uttarakhand</td>\n",
       "      <td>72435</td>\n",
       "      <td>1307</td>\n",
       "      <td>79141</td>\n",
       "    </tr>\n",
       "    <tr>\n",
       "      <th>9289</th>\n",
       "      <td>09/12/20</td>\n",
       "      <td>8:00 AM</td>\n",
       "      <td>Uttar Pradesh</td>\n",
       "      <td>528832</td>\n",
       "      <td>7967</td>\n",
       "      <td>558173</td>\n",
       "    </tr>\n",
       "    <tr>\n",
       "      <th>9290</th>\n",
       "      <td>09/12/20</td>\n",
       "      <td>8:00 AM</td>\n",
       "      <td>West Bengal</td>\n",
       "      <td>475425</td>\n",
       "      <td>8820</td>\n",
       "      <td>507995</td>\n",
       "    </tr>\n",
       "  </tbody>\n",
       "</table>\n",
       "<p>9291 rows × 6 columns</p>\n",
       "</div>"
      ],
      "text/plain": [
       "          Date     Time State/UnionTerritory   Cured  Deaths  Confirmed\n",
       "0     30/01/20  6:00 PM               Kerala       0       0          1\n",
       "1     31/01/20  6:00 PM               Kerala       0       0          1\n",
       "2     01/02/20  6:00 PM               Kerala       0       0          2\n",
       "3     02/02/20  6:00 PM               Kerala       0       0          3\n",
       "4     03/02/20  6:00 PM               Kerala       0       0          3\n",
       "...        ...      ...                  ...     ...     ...        ...\n",
       "9286  09/12/20  8:00 AM            Telengana  266120    1480     275261\n",
       "9287  09/12/20  8:00 AM              Tripura   32169     373      32945\n",
       "9288  09/12/20  8:00 AM          Uttarakhand   72435    1307      79141\n",
       "9289  09/12/20  8:00 AM        Uttar Pradesh  528832    7967     558173\n",
       "9290  09/12/20  8:00 AM          West Bengal  475425    8820     507995\n",
       "\n",
       "[9291 rows x 6 columns]"
      ]
     },
     "execution_count": 12,
     "metadata": {},
     "output_type": "execute_result"
    }
   ],
   "source": [
    "covid_df"
   ]
  },
  {
   "cell_type": "code",
   "execution_count": 13,
   "metadata": {},
   "outputs": [],
   "source": [
    "# Rename column name\n",
    "covid_df = covid_df.rename(columns={\"State/UnionTerritory\":\"States\"})"
   ]
  },
  {
   "cell_type": "code",
   "execution_count": 14,
   "metadata": {},
   "outputs": [
    {
     "data": {
      "text/html": [
       "<div>\n",
       "<style scoped>\n",
       "    .dataframe tbody tr th:only-of-type {\n",
       "        vertical-align: middle;\n",
       "    }\n",
       "\n",
       "    .dataframe tbody tr th {\n",
       "        vertical-align: top;\n",
       "    }\n",
       "\n",
       "    .dataframe thead th {\n",
       "        text-align: right;\n",
       "    }\n",
       "</style>\n",
       "<table border=\"1\" class=\"dataframe\">\n",
       "  <thead>\n",
       "    <tr style=\"text-align: right;\">\n",
       "      <th></th>\n",
       "      <th>Date</th>\n",
       "      <th>Time</th>\n",
       "      <th>States</th>\n",
       "      <th>Cured</th>\n",
       "      <th>Deaths</th>\n",
       "      <th>Confirmed</th>\n",
       "    </tr>\n",
       "  </thead>\n",
       "  <tbody>\n",
       "    <tr>\n",
       "      <th>0</th>\n",
       "      <td>30/01/20</td>\n",
       "      <td>6:00 PM</td>\n",
       "      <td>Kerala</td>\n",
       "      <td>0</td>\n",
       "      <td>0</td>\n",
       "      <td>1</td>\n",
       "    </tr>\n",
       "    <tr>\n",
       "      <th>1</th>\n",
       "      <td>31/01/20</td>\n",
       "      <td>6:00 PM</td>\n",
       "      <td>Kerala</td>\n",
       "      <td>0</td>\n",
       "      <td>0</td>\n",
       "      <td>1</td>\n",
       "    </tr>\n",
       "    <tr>\n",
       "      <th>2</th>\n",
       "      <td>01/02/20</td>\n",
       "      <td>6:00 PM</td>\n",
       "      <td>Kerala</td>\n",
       "      <td>0</td>\n",
       "      <td>0</td>\n",
       "      <td>2</td>\n",
       "    </tr>\n",
       "    <tr>\n",
       "      <th>3</th>\n",
       "      <td>02/02/20</td>\n",
       "      <td>6:00 PM</td>\n",
       "      <td>Kerala</td>\n",
       "      <td>0</td>\n",
       "      <td>0</td>\n",
       "      <td>3</td>\n",
       "    </tr>\n",
       "    <tr>\n",
       "      <th>4</th>\n",
       "      <td>03/02/20</td>\n",
       "      <td>6:00 PM</td>\n",
       "      <td>Kerala</td>\n",
       "      <td>0</td>\n",
       "      <td>0</td>\n",
       "      <td>3</td>\n",
       "    </tr>\n",
       "  </tbody>\n",
       "</table>\n",
       "</div>"
      ],
      "text/plain": [
       "       Date     Time  States  Cured  Deaths  Confirmed\n",
       "0  30/01/20  6:00 PM  Kerala      0       0          1\n",
       "1  31/01/20  6:00 PM  Kerala      0       0          1\n",
       "2  01/02/20  6:00 PM  Kerala      0       0          2\n",
       "3  02/02/20  6:00 PM  Kerala      0       0          3\n",
       "4  03/02/20  6:00 PM  Kerala      0       0          3"
      ]
     },
     "execution_count": 14,
     "metadata": {},
     "output_type": "execute_result"
    }
   ],
   "source": [
    "covid_df.head()"
   ]
  },
  {
   "cell_type": "markdown",
   "metadata": {},
   "source": [
    "## 1. Check unique state/UT names, fix state names appearing twice or more due to spelling mistakes."
   ]
  },
  {
   "cell_type": "code",
   "execution_count": 15,
   "metadata": {},
   "outputs": [
    {
     "data": {
      "text/plain": [
       "array(['Kerala', 'Telengana', 'Delhi', 'Rajasthan', 'Uttar Pradesh',\n",
       "       'Haryana', 'Ladakh', 'Tamil Nadu', 'Karnataka', 'Maharashtra',\n",
       "       'Punjab', 'Jammu and Kashmir', 'Andhra Pradesh', 'Uttarakhand',\n",
       "       'Odisha', 'Puducherry', 'West Bengal', 'Chhattisgarh',\n",
       "       'Chandigarh', 'Gujarat', 'Himachal Pradesh', 'Madhya Pradesh',\n",
       "       'Bihar', 'Manipur', 'Mizoram', 'Andaman and Nicobar Islands',\n",
       "       'Goa', 'Unassigned', 'Assam', 'Jharkhand', 'Arunachal Pradesh',\n",
       "       'Tripura', 'Nagaland', 'Meghalaya', 'Dadar Nagar Haveli',\n",
       "       'Cases being reassigned to states', 'Sikkim', 'Daman & Diu',\n",
       "       'Dadra and Nagar Haveli and Daman and Diu', 'Telangana',\n",
       "       'Telangana***', 'Telengana***', 'Maharashtra***', 'Chandigarh***',\n",
       "       'Punjab***'], dtype=object)"
      ]
     },
     "execution_count": 15,
     "metadata": {},
     "output_type": "execute_result"
    }
   ],
   "source": [
    "covid_df[\"States\"].unique()"
   ]
  },
  {
   "cell_type": "code",
   "execution_count": 16,
   "metadata": {},
   "outputs": [
    {
     "data": {
      "text/plain": [
       "45"
      ]
     },
     "execution_count": 16,
     "metadata": {},
     "output_type": "execute_result"
    }
   ],
   "source": [
    "covid_df[\"States\"].nunique()"
   ]
  },
  {
   "cell_type": "code",
   "execution_count": 17,
   "metadata": {},
   "outputs": [],
   "source": [
    "covid_df = covid_df.replace(\"Telengana\",\"Telangana\")\n",
    "covid_df = covid_df.replace(\"Telengana***\",\"Telangana\")\n",
    "covid_df = covid_df.replace(\"Chandigarh***\",\"Chandigarh\")\n",
    "covid_df = covid_df.replace(\"Telengana***\",\"Telangana\")\n",
    "covid_df = covid_df.replace(\"Punjab***\",\"Punjab\")\n",
    "covid_df = covid_df.replace(\"Telangana***\",\"Telangana\")\n",
    "covid_df = covid_df.replace(\"Maharashtra***\",\"Maharashtra\")"
   ]
  },
  {
   "cell_type": "code",
   "execution_count": 18,
   "metadata": {},
   "outputs": [
    {
     "data": {
      "text/plain": [
       "array(['Kerala', 'Telangana', 'Delhi', 'Rajasthan', 'Uttar Pradesh',\n",
       "       'Haryana', 'Ladakh', 'Tamil Nadu', 'Karnataka', 'Maharashtra',\n",
       "       'Punjab', 'Jammu and Kashmir', 'Andhra Pradesh', 'Uttarakhand',\n",
       "       'Odisha', 'Puducherry', 'West Bengal', 'Chhattisgarh',\n",
       "       'Chandigarh', 'Gujarat', 'Himachal Pradesh', 'Madhya Pradesh',\n",
       "       'Bihar', 'Manipur', 'Mizoram', 'Andaman and Nicobar Islands',\n",
       "       'Goa', 'Unassigned', 'Assam', 'Jharkhand', 'Arunachal Pradesh',\n",
       "       'Tripura', 'Nagaland', 'Meghalaya', 'Dadar Nagar Haveli',\n",
       "       'Cases being reassigned to states', 'Sikkim', 'Daman & Diu',\n",
       "       'Dadra and Nagar Haveli and Daman and Diu'], dtype=object)"
      ]
     },
     "execution_count": 18,
     "metadata": {},
     "output_type": "execute_result"
    }
   ],
   "source": [
    "covid_df[\"States\"].unique()"
   ]
  },
  {
   "cell_type": "code",
   "execution_count": 19,
   "metadata": {},
   "outputs": [
    {
     "data": {
      "text/plain": [
       "39"
      ]
     },
     "execution_count": 19,
     "metadata": {},
     "output_type": "execute_result"
    }
   ],
   "source": [
    "covid_df[\"States\"].nunique()"
   ]
  },
  {
   "cell_type": "markdown",
   "metadata": {},
   "source": [
    "## 2. Calculate per day average confirmed cases for all states/UT."
   ]
  },
  {
   "cell_type": "code",
   "execution_count": 20,
   "metadata": {},
   "outputs": [],
   "source": [
    "avg_cases = covid_df.groupby([\"Date\",\"States\"])[\"Confirmed\"].mean()"
   ]
  },
  {
   "cell_type": "code",
   "execution_count": 21,
   "metadata": {},
   "outputs": [
    {
     "data": {
      "text/plain": [
       "Date      States                     \n",
       "01/02/20  Kerala                              2\n",
       "01/03/20  Kerala                              3\n",
       "01/04/20  Andaman and Nicobar Islands        10\n",
       "          Andhra Pradesh                     83\n",
       "          Assam                               1\n",
       "                                          ...  \n",
       "31/10/20  Telangana                      238632\n",
       "          Tripura                         30717\n",
       "          Uttar Pradesh                  480082\n",
       "          Uttarakhand                     61915\n",
       "          West Bengal                    369671\n",
       "Name: Confirmed, Length: 9291, dtype: int64"
      ]
     },
     "execution_count": 21,
     "metadata": {},
     "output_type": "execute_result"
    }
   ],
   "source": [
    "avg_cases"
   ]
  },
  {
   "cell_type": "markdown",
   "metadata": {},
   "source": [
    "## 3. Linegraph that shows distribution of per day confirmed cases in Maharashtra in 2020."
   ]
  },
  {
   "cell_type": "markdown",
   "metadata": {},
   "source": [
    "<b> method 1</b>"
   ]
  },
  {
   "cell_type": "code",
   "execution_count": 22,
   "metadata": {},
   "outputs": [],
   "source": [
    "maharashtra_cases = covid_df[covid_df[\"States\"] == \"Maharashtra\"]"
   ]
  },
  {
   "cell_type": "code",
   "execution_count": 23,
   "metadata": {},
   "outputs": [
    {
     "data": {
      "text/html": [
       "<div>\n",
       "<style scoped>\n",
       "    .dataframe tbody tr th:only-of-type {\n",
       "        vertical-align: middle;\n",
       "    }\n",
       "\n",
       "    .dataframe tbody tr th {\n",
       "        vertical-align: top;\n",
       "    }\n",
       "\n",
       "    .dataframe thead th {\n",
       "        text-align: right;\n",
       "    }\n",
       "</style>\n",
       "<table border=\"1\" class=\"dataframe\">\n",
       "  <thead>\n",
       "    <tr style=\"text-align: right;\">\n",
       "      <th></th>\n",
       "      <th>Date</th>\n",
       "      <th>Time</th>\n",
       "      <th>States</th>\n",
       "      <th>Cured</th>\n",
       "      <th>Deaths</th>\n",
       "      <th>Confirmed</th>\n",
       "    </tr>\n",
       "  </thead>\n",
       "  <tbody>\n",
       "    <tr>\n",
       "      <th>76</th>\n",
       "      <td>09/03/20</td>\n",
       "      <td>6:00 PM</td>\n",
       "      <td>Maharashtra</td>\n",
       "      <td>0</td>\n",
       "      <td>0</td>\n",
       "      <td>2</td>\n",
       "    </tr>\n",
       "    <tr>\n",
       "      <th>91</th>\n",
       "      <td>10/03/20</td>\n",
       "      <td>6:00 PM</td>\n",
       "      <td>Maharashtra</td>\n",
       "      <td>0</td>\n",
       "      <td>0</td>\n",
       "      <td>5</td>\n",
       "    </tr>\n",
       "    <tr>\n",
       "      <th>97</th>\n",
       "      <td>11/03/20</td>\n",
       "      <td>6:00 PM</td>\n",
       "      <td>Maharashtra</td>\n",
       "      <td>0</td>\n",
       "      <td>0</td>\n",
       "      <td>2</td>\n",
       "    </tr>\n",
       "    <tr>\n",
       "      <th>120</th>\n",
       "      <td>12/03/20</td>\n",
       "      <td>6:00 PM</td>\n",
       "      <td>Maharashtra</td>\n",
       "      <td>0</td>\n",
       "      <td>0</td>\n",
       "      <td>11</td>\n",
       "    </tr>\n",
       "    <tr>\n",
       "      <th>133</th>\n",
       "      <td>13/03/20</td>\n",
       "      <td>6:00 PM</td>\n",
       "      <td>Maharashtra</td>\n",
       "      <td>0</td>\n",
       "      <td>0</td>\n",
       "      <td>14</td>\n",
       "    </tr>\n",
       "    <tr>\n",
       "      <th>...</th>\n",
       "      <td>...</td>\n",
       "      <td>...</td>\n",
       "      <td>...</td>\n",
       "      <td>...</td>\n",
       "      <td>...</td>\n",
       "      <td>...</td>\n",
       "    </tr>\n",
       "    <tr>\n",
       "      <th>9135</th>\n",
       "      <td>05/12/20</td>\n",
       "      <td>8:00 AM</td>\n",
       "      <td>Maharashtra</td>\n",
       "      <td>1710050</td>\n",
       "      <td>47599</td>\n",
       "      <td>1842587</td>\n",
       "    </tr>\n",
       "    <tr>\n",
       "      <th>9170</th>\n",
       "      <td>06/12/20</td>\n",
       "      <td>8:00 AM</td>\n",
       "      <td>Maharashtra</td>\n",
       "      <td>1715884</td>\n",
       "      <td>47694</td>\n",
       "      <td>1847509</td>\n",
       "    </tr>\n",
       "    <tr>\n",
       "      <th>9205</th>\n",
       "      <td>07/12/20</td>\n",
       "      <td>8:00 AM</td>\n",
       "      <td>Maharashtra</td>\n",
       "      <td>1723370</td>\n",
       "      <td>47734</td>\n",
       "      <td>1852266</td>\n",
       "    </tr>\n",
       "    <tr>\n",
       "      <th>9240</th>\n",
       "      <td>08/12/20</td>\n",
       "      <td>8:00 AM</td>\n",
       "      <td>Maharashtra</td>\n",
       "      <td>1730715</td>\n",
       "      <td>47774</td>\n",
       "      <td>1855341</td>\n",
       "    </tr>\n",
       "    <tr>\n",
       "      <th>9275</th>\n",
       "      <td>09/12/20</td>\n",
       "      <td>8:00 AM</td>\n",
       "      <td>Maharashtra</td>\n",
       "      <td>1737080</td>\n",
       "      <td>47827</td>\n",
       "      <td>1859367</td>\n",
       "    </tr>\n",
       "  </tbody>\n",
       "</table>\n",
       "<p>276 rows × 6 columns</p>\n",
       "</div>"
      ],
      "text/plain": [
       "          Date     Time       States    Cured  Deaths  Confirmed\n",
       "76    09/03/20  6:00 PM  Maharashtra        0       0          2\n",
       "91    10/03/20  6:00 PM  Maharashtra        0       0          5\n",
       "97    11/03/20  6:00 PM  Maharashtra        0       0          2\n",
       "120   12/03/20  6:00 PM  Maharashtra        0       0         11\n",
       "133   13/03/20  6:00 PM  Maharashtra        0       0         14\n",
       "...        ...      ...          ...      ...     ...        ...\n",
       "9135  05/12/20  8:00 AM  Maharashtra  1710050   47599    1842587\n",
       "9170  06/12/20  8:00 AM  Maharashtra  1715884   47694    1847509\n",
       "9205  07/12/20  8:00 AM  Maharashtra  1723370   47734    1852266\n",
       "9240  08/12/20  8:00 AM  Maharashtra  1730715   47774    1855341\n",
       "9275  09/12/20  8:00 AM  Maharashtra  1737080   47827    1859367\n",
       "\n",
       "[276 rows x 6 columns]"
      ]
     },
     "execution_count": 23,
     "metadata": {},
     "output_type": "execute_result"
    }
   ],
   "source": [
    "maharashtra_cases"
   ]
  },
  {
   "cell_type": "code",
   "execution_count": 28,
   "metadata": {},
   "outputs": [],
   "source": [
    "date = maharashtra_cases[maharashtra_cases[\"Date\"].isin([\"09/03/20\",\"09/04/20\",\"09/05/20\",\"09/06/20\",\n",
    "                                                         \"09/07/20\",\"09/08/20\",\"09/09/20\",\"09/10/20\",\n",
    "                                                         \"09/11/20\",\"09/12/20\"])]"
   ]
  },
  {
   "cell_type": "code",
   "execution_count": 29,
   "metadata": {},
   "outputs": [
    {
     "data": {
      "text/html": [
       "<div>\n",
       "<style scoped>\n",
       "    .dataframe tbody tr th:only-of-type {\n",
       "        vertical-align: middle;\n",
       "    }\n",
       "\n",
       "    .dataframe tbody tr th {\n",
       "        vertical-align: top;\n",
       "    }\n",
       "\n",
       "    .dataframe thead th {\n",
       "        text-align: right;\n",
       "    }\n",
       "</style>\n",
       "<table border=\"1\" class=\"dataframe\">\n",
       "  <thead>\n",
       "    <tr style=\"text-align: right;\">\n",
       "      <th></th>\n",
       "      <th>Date</th>\n",
       "      <th>Time</th>\n",
       "      <th>States</th>\n",
       "      <th>Cured</th>\n",
       "      <th>Deaths</th>\n",
       "      <th>Confirmed</th>\n",
       "    </tr>\n",
       "  </thead>\n",
       "  <tbody>\n",
       "    <tr>\n",
       "      <th>76</th>\n",
       "      <td>09/03/20</td>\n",
       "      <td>6:00 PM</td>\n",
       "      <td>Maharashtra</td>\n",
       "      <td>0</td>\n",
       "      <td>0</td>\n",
       "      <td>2</td>\n",
       "    </tr>\n",
       "    <tr>\n",
       "      <th>788</th>\n",
       "      <td>09/04/20</td>\n",
       "      <td>5:00 PM</td>\n",
       "      <td>Maharashtra</td>\n",
       "      <td>117</td>\n",
       "      <td>72</td>\n",
       "      <td>1135</td>\n",
       "    </tr>\n",
       "    <tr>\n",
       "      <th>1756</th>\n",
       "      <td>09/05/20</td>\n",
       "      <td>8:00 AM</td>\n",
       "      <td>Maharashtra</td>\n",
       "      <td>3470</td>\n",
       "      <td>731</td>\n",
       "      <td>19063</td>\n",
       "    </tr>\n",
       "    <tr>\n",
       "      <th>2829</th>\n",
       "      <td>09/06/20</td>\n",
       "      <td>8:00 AM</td>\n",
       "      <td>Maharashtra</td>\n",
       "      <td>40975</td>\n",
       "      <td>3169</td>\n",
       "      <td>88528</td>\n",
       "    </tr>\n",
       "    <tr>\n",
       "      <th>3910</th>\n",
       "      <td>09/07/20</td>\n",
       "      <td>8:00 AM</td>\n",
       "      <td>Maharashtra</td>\n",
       "      <td>123192</td>\n",
       "      <td>9448</td>\n",
       "      <td>223724</td>\n",
       "    </tr>\n",
       "    <tr>\n",
       "      <th>5005</th>\n",
       "      <td>09/08/20</td>\n",
       "      <td>8:00 AM</td>\n",
       "      <td>Maharashtra</td>\n",
       "      <td>338362</td>\n",
       "      <td>17367</td>\n",
       "      <td>503084</td>\n",
       "    </tr>\n",
       "    <tr>\n",
       "      <th>6090</th>\n",
       "      <td>09/09/20</td>\n",
       "      <td>8:00 AM</td>\n",
       "      <td>Maharashtra</td>\n",
       "      <td>672556</td>\n",
       "      <td>27407</td>\n",
       "      <td>943772</td>\n",
       "    </tr>\n",
       "    <tr>\n",
       "      <th>7140</th>\n",
       "      <td>09/10/20</td>\n",
       "      <td>8:00 AM</td>\n",
       "      <td>Maharashtra</td>\n",
       "      <td>1212016</td>\n",
       "      <td>39430</td>\n",
       "      <td>1493884</td>\n",
       "    </tr>\n",
       "    <tr>\n",
       "      <th>8225</th>\n",
       "      <td>09/11/20</td>\n",
       "      <td>8:00 AM</td>\n",
       "      <td>Maharashtra</td>\n",
       "      <td>1577322</td>\n",
       "      <td>45240</td>\n",
       "      <td>1719858</td>\n",
       "    </tr>\n",
       "    <tr>\n",
       "      <th>9275</th>\n",
       "      <td>09/12/20</td>\n",
       "      <td>8:00 AM</td>\n",
       "      <td>Maharashtra</td>\n",
       "      <td>1737080</td>\n",
       "      <td>47827</td>\n",
       "      <td>1859367</td>\n",
       "    </tr>\n",
       "  </tbody>\n",
       "</table>\n",
       "</div>"
      ],
      "text/plain": [
       "          Date     Time       States    Cured  Deaths  Confirmed\n",
       "76    09/03/20  6:00 PM  Maharashtra        0       0          2\n",
       "788   09/04/20  5:00 PM  Maharashtra      117      72       1135\n",
       "1756  09/05/20  8:00 AM  Maharashtra     3470     731      19063\n",
       "2829  09/06/20  8:00 AM  Maharashtra    40975    3169      88528\n",
       "3910  09/07/20  8:00 AM  Maharashtra   123192    9448     223724\n",
       "5005  09/08/20  8:00 AM  Maharashtra   338362   17367     503084\n",
       "6090  09/09/20  8:00 AM  Maharashtra   672556   27407     943772\n",
       "7140  09/10/20  8:00 AM  Maharashtra  1212016   39430    1493884\n",
       "8225  09/11/20  8:00 AM  Maharashtra  1577322   45240    1719858\n",
       "9275  09/12/20  8:00 AM  Maharashtra  1737080   47827    1859367"
      ]
     },
     "execution_count": 29,
     "metadata": {},
     "output_type": "execute_result"
    }
   ],
   "source": [
    "date"
   ]
  },
  {
   "cell_type": "code",
   "execution_count": 30,
   "metadata": {},
   "outputs": [
    {
     "data": {
      "image/png": "[encoded data removed]",
      "text/plain": [
       "<Figure size 720x576 with 1 Axes>"
      ]
     },
     "metadata": {
      "needs_background": "light"
     },
     "output_type": "display_data"
    }
   ],
   "source": [
    "plt.figure(figsize=(10,8))\n",
    "\n",
    "plt.title(\"Confirmed cases in Maharashtra in 2020\")\n",
    "sns.lineplot(data=date,x='Date',y='Confirmed',color=\"blue\")\n",
    "\n",
    "plt.show()"
   ]
  },
  {
   "cell_type": "markdown",
   "metadata": {},
   "source": [
    "<b>Method 2</b>"
   ]
  },
  {
   "cell_type": "code",
   "execution_count": 31,
   "metadata": {},
   "outputs": [],
   "source": [
    "mah_cases = covid_df[covid_df[\"States\"]==\"Maharashtra\"]"
   ]
  },
  {
   "cell_type": "code",
   "execution_count": 32,
   "metadata": {},
   "outputs": [],
   "source": [
    "dates=mah_cases[\"Date\"]\n",
    "confirmed=mah_cases[\"Confirmed\"]"
   ]
  },
  {
   "cell_type": "code",
   "execution_count": 33,
   "metadata": {},
   "outputs": [
    {
     "data": {
      "text/plain": [
       "<AxesSubplot:xlabel='Date'>"
      ]
     },
     "execution_count": 33,
     "metadata": {},
     "output_type": "execute_result"
    },
    {
     "data": {
      "image/png": "[encoded data removed]",
      "text/plain": [
       "<Figure size 432x288 with 1 Axes>"
      ]
     },
     "metadata": {
      "needs_background": "light"
     },
     "output_type": "display_data"
    }
   ],
   "source": [
    "mah_cases.plot(x=\"Date\",y=\"Confirmed\")"
   ]
  },
  {
   "cell_type": "markdown",
   "metadata": {},
   "source": [
    "## 4. Plot a pie-chart displaying percentage of total cured and total death cases in Maharashtra."
   ]
  },
  {
   "cell_type": "code",
   "execution_count": 34,
   "metadata": {},
   "outputs": [],
   "source": [
    "maharashtra_cases = covid_df[covid_df[\"States\"] == \"Maharashtra\"]"
   ]
  },
  {
   "cell_type": "code",
   "execution_count": 35,
   "metadata": {},
   "outputs": [
    {
     "data": {
      "text/html": [
       "<div>\n",
       "<style scoped>\n",
       "    .dataframe tbody tr th:only-of-type {\n",
       "        vertical-align: middle;\n",
       "    }\n",
       "\n",
       "    .dataframe tbody tr th {\n",
       "        vertical-align: top;\n",
       "    }\n",
       "\n",
       "    .dataframe thead th {\n",
       "        text-align: right;\n",
       "    }\n",
       "</style>\n",
       "<table border=\"1\" class=\"dataframe\">\n",
       "  <thead>\n",
       "    <tr style=\"text-align: right;\">\n",
       "      <th></th>\n",
       "      <th>Date</th>\n",
       "      <th>Time</th>\n",
       "      <th>States</th>\n",
       "      <th>Cured</th>\n",
       "      <th>Deaths</th>\n",
       "      <th>Confirmed</th>\n",
       "    </tr>\n",
       "  </thead>\n",
       "  <tbody>\n",
       "    <tr>\n",
       "      <th>76</th>\n",
       "      <td>09/03/20</td>\n",
       "      <td>6:00 PM</td>\n",
       "      <td>Maharashtra</td>\n",
       "      <td>0</td>\n",
       "      <td>0</td>\n",
       "      <td>2</td>\n",
       "    </tr>\n",
       "    <tr>\n",
       "      <th>91</th>\n",
       "      <td>10/03/20</td>\n",
       "      <td>6:00 PM</td>\n",
       "      <td>Maharashtra</td>\n",
       "      <td>0</td>\n",
       "      <td>0</td>\n",
       "      <td>5</td>\n",
       "    </tr>\n",
       "    <tr>\n",
       "      <th>97</th>\n",
       "      <td>11/03/20</td>\n",
       "      <td>6:00 PM</td>\n",
       "      <td>Maharashtra</td>\n",
       "      <td>0</td>\n",
       "      <td>0</td>\n",
       "      <td>2</td>\n",
       "    </tr>\n",
       "    <tr>\n",
       "      <th>120</th>\n",
       "      <td>12/03/20</td>\n",
       "      <td>6:00 PM</td>\n",
       "      <td>Maharashtra</td>\n",
       "      <td>0</td>\n",
       "      <td>0</td>\n",
       "      <td>11</td>\n",
       "    </tr>\n",
       "    <tr>\n",
       "      <th>133</th>\n",
       "      <td>13/03/20</td>\n",
       "      <td>6:00 PM</td>\n",
       "      <td>Maharashtra</td>\n",
       "      <td>0</td>\n",
       "      <td>0</td>\n",
       "      <td>14</td>\n",
       "    </tr>\n",
       "    <tr>\n",
       "      <th>...</th>\n",
       "      <td>...</td>\n",
       "      <td>...</td>\n",
       "      <td>...</td>\n",
       "      <td>...</td>\n",
       "      <td>...</td>\n",
       "      <td>...</td>\n",
       "    </tr>\n",
       "    <tr>\n",
       "      <th>9135</th>\n",
       "      <td>05/12/20</td>\n",
       "      <td>8:00 AM</td>\n",
       "      <td>Maharashtra</td>\n",
       "      <td>1710050</td>\n",
       "      <td>47599</td>\n",
       "      <td>1842587</td>\n",
       "    </tr>\n",
       "    <tr>\n",
       "      <th>9170</th>\n",
       "      <td>06/12/20</td>\n",
       "      <td>8:00 AM</td>\n",
       "      <td>Maharashtra</td>\n",
       "      <td>1715884</td>\n",
       "      <td>47694</td>\n",
       "      <td>1847509</td>\n",
       "    </tr>\n",
       "    <tr>\n",
       "      <th>9205</th>\n",
       "      <td>07/12/20</td>\n",
       "      <td>8:00 AM</td>\n",
       "      <td>Maharashtra</td>\n",
       "      <td>1723370</td>\n",
       "      <td>47734</td>\n",
       "      <td>1852266</td>\n",
       "    </tr>\n",
       "    <tr>\n",
       "      <th>9240</th>\n",
       "      <td>08/12/20</td>\n",
       "      <td>8:00 AM</td>\n",
       "      <td>Maharashtra</td>\n",
       "      <td>1730715</td>\n",
       "      <td>47774</td>\n",
       "      <td>1855341</td>\n",
       "    </tr>\n",
       "    <tr>\n",
       "      <th>9275</th>\n",
       "      <td>09/12/20</td>\n",
       "      <td>8:00 AM</td>\n",
       "      <td>Maharashtra</td>\n",
       "      <td>1737080</td>\n",
       "      <td>47827</td>\n",
       "      <td>1859367</td>\n",
       "    </tr>\n",
       "  </tbody>\n",
       "</table>\n",
       "<p>276 rows × 6 columns</p>\n",
       "</div>"
      ],
      "text/plain": [
       "          Date     Time       States    Cured  Deaths  Confirmed\n",
       "76    09/03/20  6:00 PM  Maharashtra        0       0          2\n",
       "91    10/03/20  6:00 PM  Maharashtra        0       0          5\n",
       "97    11/03/20  6:00 PM  Maharashtra        0       0          2\n",
       "120   12/03/20  6:00 PM  Maharashtra        0       0         11\n",
       "133   13/03/20  6:00 PM  Maharashtra        0       0         14\n",
       "...        ...      ...          ...      ...     ...        ...\n",
       "9135  05/12/20  8:00 AM  Maharashtra  1710050   47599    1842587\n",
       "9170  06/12/20  8:00 AM  Maharashtra  1715884   47694    1847509\n",
       "9205  07/12/20  8:00 AM  Maharashtra  1723370   47734    1852266\n",
       "9240  08/12/20  8:00 AM  Maharashtra  1730715   47774    1855341\n",
       "9275  09/12/20  8:00 AM  Maharashtra  1737080   47827    1859367\n",
       "\n",
       "[276 rows x 6 columns]"
      ]
     },
     "execution_count": 35,
     "metadata": {},
     "output_type": "execute_result"
    }
   ],
   "source": [
    "maharashtra_cases"
   ]
  },
  {
   "cell_type": "code",
   "execution_count": 36,
   "metadata": {},
   "outputs": [],
   "source": [
    "total_cured_mah = maharashtra_cases[\"Cured\"].sum()\n",
    "total_death_mah = maharashtra_cases[\"Deaths\"].sum()"
   ]
  },
  {
   "cell_type": "code",
   "execution_count": 37,
   "metadata": {},
   "outputs": [
    {
     "data": {
      "image/png": "[encoded data removed]",
      "text/plain": [
       "<Figure size 504x576 with 1 Axes>"
      ]
     },
     "metadata": {},
     "output_type": "display_data"
    }
   ],
   "source": [
    "plt.figure(figsize=(7,8)) \n",
    "plt.title(\"Percentage of total cured and total death cases in Maharashtra\")\n",
    "labels = \"Total Cured\",\"Total Death\"\n",
    "sizes = [total_cured_mah,total_death_mah]\n",
    "plt.pie(sizes,labels=labels,autopct=\"%1.2f%%\",explode=(0,0.1))\n",
    "\n",
    "plt.show()"
   ]
  },
  {
   "cell_type": "markdown",
   "metadata": {},
   "source": [
    "## 5. Plot a barplot showing top-5 states with maximum number of total confirmed cases."
   ]
  },
  {
   "cell_type": "code",
   "execution_count": 38,
   "metadata": {},
   "outputs": [],
   "source": [
    "total_states = covid_df.groupby([\"States\"])[\"Confirmed\"].sum()"
   ]
  },
  {
   "cell_type": "code",
   "execution_count": 39,
   "metadata": {},
   "outputs": [],
   "source": [
    "state_list = total_states.sort_values(ascending=False).head()"
   ]
  },
  {
   "cell_type": "code",
   "execution_count": 40,
   "metadata": {},
   "outputs": [
    {
     "data": {
      "text/plain": [
       "States\n",
       "Maharashtra       181173762\n",
       "Andhra Pradesh     84815303\n",
       "Tamil Nadu         82789540\n",
       "Karnataka          79354749\n",
       "Uttar Pradesh      50283822\n",
       "Name: Confirmed, dtype: int64"
      ]
     },
     "execution_count": 40,
     "metadata": {},
     "output_type": "execute_result"
    }
   ],
   "source": [
    "state_list"
   ]
  },
  {
   "cell_type": "code",
   "execution_count": 41,
   "metadata": {},
   "outputs": [
    {
     "data": {
      "image/png": "[encoded data removed]",
      "text/plain": [
       "<Figure size 720x432 with 1 Axes>"
      ]
     },
     "metadata": {
      "needs_background": "light"
     },
     "output_type": "display_data"
    }
   ],
   "source": [
    "plt.figure(figsize=(10,6))\n",
    "state_list.plot(kind=\"bar\")\n",
    "plt.title(\"Top-5 states with maximum number of total confirmed cases\")\n",
    "plt.xlabel(\"States\")\n",
    "plt.ylabel(\"maximum_confirmed\")\n",
    "plt.show()"
   ]
  },
  {
   "cell_type": "markdown",
   "metadata": {},
   "source": [
    "## 6. Which 3 states have lowest total death cases."
   ]
  },
  {
   "cell_type": "code",
   "execution_count": 42,
   "metadata": {},
   "outputs": [],
   "source": [
    "states = covid_df.groupby(\"States\")[\"Deaths\"].sum()"
   ]
  },
  {
   "cell_type": "code",
   "execution_count": 43,
   "metadata": {},
   "outputs": [
    {
     "data": {
      "text/plain": [
       "States\n",
       "Unassigned                          0\n",
       "Cases being reassigned to states    0\n",
       "Daman & Diu                         0\n",
       "Name: Deaths, dtype: int64"
      ]
     },
     "execution_count": 43,
     "metadata": {},
     "output_type": "execute_result"
    }
   ],
   "source": [
    "states.sort_values().head(3)"
   ]
  },
  {
   "cell_type": "code",
   "execution_count": 44,
   "metadata": {},
   "outputs": [
    {
     "data": {
      "text/plain": [
       "States\n",
       "Unassigned                          0\n",
       "Cases being reassigned to states    0\n",
       "Daman & Diu                         0\n",
       "Dadar Nagar Haveli                  0\n",
       "Name: Deaths, dtype: int64"
      ]
     },
     "execution_count": 44,
     "metadata": {},
     "output_type": "execute_result"
    }
   ],
   "source": [
    "states.sort_values().head(4)"
   ]
  },
  {
   "cell_type": "markdown",
   "metadata": {},
   "source": [
    "## 7. Plot multi linegraph that shows distribution of per day confirmed cases,death cases and cured cases in India in 2020."
   ]
  },
  {
   "cell_type": "code",
   "execution_count": 45,
   "metadata": {},
   "outputs": [],
   "source": [
    "all_dates = covid_df[\"Date\"].unique()"
   ]
  },
  {
   "cell_type": "code",
   "execution_count": 48,
   "metadata": {},
   "outputs": [
    {
     "data": {
      "text/plain": [
       "array(['30/01/20', '31/01/20', '01/02/20', '02/02/20', '03/02/20',\n",
       "       '04/02/20', '05/02/20', '06/02/20', '07/02/20', '08/02/20',\n",
       "       '09/02/20', '10/02/20', '11/02/20', '12/02/20', '13/02/20',\n",
       "       '14/02/20', '15/02/20', '16/02/20', '17/02/20', '18/02/20',\n",
       "       '19/02/20', '20/02/20', '21/02/20', '22/02/20', '23/02/20',\n",
       "       '24/02/20', '25/02/20', '26/02/20', '27/02/20', '28/02/20',\n",
       "       '29/02/20', '01/03/20', '02/03/20', '03/03/20', '04/03/20',\n",
       "       '05/03/20', '06/03/20', '07/03/20', '08/03/20', '09/03/20',\n",
       "       '10/03/20', '11/03/20', '12/03/20', '13/03/20', '14/03/20',\n",
       "       '15/03/20', '16/03/20', '17/03/20', '18/03/20', '19/03/20',\n",
       "       '20/03/20', '21/03/20', '22/03/20', '23/03/20', '24/03/20',\n",
       "       '25/03/20', '26/03/20', '27/03/20', '28/03/20', '29/03/20',\n",
       "       '30/03/20', '31/03/20', '01/04/20', '02/04/20', '03/04/20',\n",
       "       '04/04/20', '05/04/20', '06/04/20', '07/04/20', '08/04/20',\n",
       "       '09/04/20', '10/04/20', '11/04/20', '12/04/20', '13/04/20',\n",
       "       '14/04/20', '15/04/20', '16/04/20', '17/04/20', '18/04/20',\n",
       "       '19/04/20', '20/04/20', '21/04/20', '22/04/20', '23/04/20',\n",
       "       '24/04/20', '25/04/20', '26/04/20', '27/04/20', '28/04/20',\n",
       "       '29/04/20', '30/04/20', '01/05/20', '02/05/20', '03/05/20',\n",
       "       '04/05/20', '05/05/20', '06/05/20', '07/05/20', '08/05/20',\n",
       "       '09/05/20', '10/05/20', '11/05/20', '12/05/20', '13/05/20',\n",
       "       '14/05/20', '15/05/20', '16/05/20', '17/05/20', '18/05/20',\n",
       "       '19/05/20', '20/05/20', '21/05/20', '22/05/20', '23/05/20',\n",
       "       '24/05/20', '25/05/20', '26/05/20', '27/05/20', '28/05/20',\n",
       "       '29/05/20', '30/05/20', '31/05/20', '01/06/20', '02/06/20',\n",
       "       '03/06/20', '04/06/20', '05/06/20', '06/06/20', '07/06/20',\n",
       "       '08/06/20', '09/06/20', '10/06/20', '11/06/20', '12/06/20',\n",
       "       '13/06/20', '14/06/20', '15/06/20', '16/06/20', '17/06/20',\n",
       "       '18/06/20', '19/06/20', '20/06/20', '21/06/20', '22/06/20',\n",
       "       '23/06/20', '24/06/20', '25/06/20', '26/06/20', '27/06/20',\n",
       "       '28/06/20', '29/06/20', '30/06/20', '01/07/20', '02/07/20',\n",
       "       '03/07/20', '04/07/20', '05/07/20', '06/07/20', '07/07/20',\n",
       "       '08/07/20', '09/07/20', '10/07/20', '11/07/20', '12/07/20',\n",
       "       '13/07/20', '14/07/20', '15/07/20', '16/07/20', '17/07/20',\n",
       "       '18/07/20', '19/07/20', '20/07/20', '21/07/20', '22/07/20',\n",
       "       '23/07/20', '24/07/20', '25/07/20', '26/07/20', '27/07/20',\n",
       "       '28/07/20', '29/07/20', '30/07/20', '31/07/20', '01/08/20',\n",
       "       '02/08/20', '03/08/20', '04/08/20', '05/08/20', '06/08/20',\n",
       "       '07/08/20', '08/08/20', '09/08/20', '10/08/20', '11/08/20',\n",
       "       '12/08/20', '13/08/20', '14/08/20', '15/08/20', '16/08/20',\n",
       "       '17/08/20', '18/08/20', '19/08/20', '20/08/20', '21/08/20',\n",
       "       '22/08/20', '23/08/20', '24/08/20', '25/08/20', '26/08/20',\n",
       "       '27/08/20', '28/08/20', '29/08/20', '30/08/20', '31/08/20',\n",
       "       '01/09/20', '02/09/20', '03/09/20', '04/09/20', '05/09/20',\n",
       "       '06/09/20', '07/09/20', '08/09/20', '09/09/20', '10/09/20',\n",
       "       '11/09/20', '12/09/20', '13/09/20', '14/09/20', '15/09/20',\n",
       "       '16/09/20', '17/09/20', '18/09/20', '19/09/20', '20/09/20',\n",
       "       '21/09/20', '22/09/20', '23/09/20', '24/09/20', '25/09/20',\n",
       "       '26/09/20', '27/09/20', '28/09/20', '29/09/20', '30/09/20',\n",
       "       '01/10/20', '02/10/20', '03/10/20', '04/10/20', '05/10/20',\n",
       "       '06/10/20', '07/10/20', '08/10/20', '09/10/20', '10/10/20',\n",
       "       '11/10/20', '12/10/20', '13/10/20', '14/10/20', '15/10/20',\n",
       "       '16/10/20', '17/10/20', '18/10/20', '19/10/20', '20/10/20',\n",
       "       '21/10/20', '22/10/20', '23/10/20', '24/10/20', '25/10/20',\n",
       "       '26/10/20', '27/10/20', '28/10/20', '29/10/20', '30/10/20',\n",
       "       '31/10/20', '01/11/20', '02/11/20', '03/11/20', '04/11/20',\n",
       "       '05/11/20', '06/11/20', '07/11/20', '08/11/20', '09/11/20',\n",
       "       '10/11/20', '11/11/20', '12/11/20', '13/11/20', '14/11/20',\n",
       "       '15/11/20', '16/11/20', '17/11/20', '18/11/20', '19/11/20',\n",
       "       '20/11/20', '21/11/20', '22/11/20', '23/11/20', '24/11/20',\n",
       "       '25/11/20', '26/11/20', '27/11/20', '28/11/20', '29/11/20',\n",
       "       '30/11/20', '01/12/20', '02/12/20', '03/12/20', '04/12/20',\n",
       "       '05/12/20', '06/12/20', '07/12/20', '08/12/20', '09/12/20'],\n",
       "      dtype=object)"
      ]
     },
     "execution_count": 48,
     "metadata": {},
     "output_type": "execute_result"
    }
   ],
   "source": [
    "all_dates"
   ]
  },
  {
   "cell_type": "code",
   "execution_count": 49,
   "metadata": {},
   "outputs": [],
   "source": [
    "Year_date = covid_df[covid_df[\"Date\"].isin([\"31/01/20\",\"01/02/20\",\"01/03/20\",\"01/04/20\",\n",
    "                                            \"01/05/20\",\"01/06/20\",\"01/07/20\",\"01/08/20\",\n",
    "                                            \"01/09/20\",\"01/10/20\",\"01/11/20\",\"09/12/20\"])]"
   ]
  },
  {
   "cell_type": "code",
   "execution_count": 50,
   "metadata": {},
   "outputs": [
    {
     "data": {
      "image/png": "[encoded data removed]",
      "text/plain": [
       "<Figure size 936x576 with 1 Axes>"
      ]
     },
     "metadata": {
      "needs_background": "light"
     },
     "output_type": "display_data"
    }
   ],
   "source": [
    "plt.figure(figsize=(13,8))\n",
    "sns.lineplot(data=Year_date,x=\"Date\",y=\"Confirmed\",color=\"Blue\")\n",
    "sns.lineplot(data=Year_date,x=\"Date\",y=\"Cured\",color=\"Green\")\n",
    "sns.lineplot(data=Year_date,x=\"Date\",y=\"Deaths\",color=\"Red\")\n",
    "plt.legend(labels=[\"Confirmed\",\"Cured\",\"Deaths\"])\n",
    "plt.title(\"Confirmed cases,death cases and cured cases in India in 2020.\")\n",
    "plt.show()"
   ]
  },
  {
   "cell_type": "markdown",
   "metadata": {},
   "source": [
    "## Self Study"
   ]
  },
  {
   "cell_type": "markdown",
   "metadata": {},
   "source": [
    "## confirmed cases,death cases and cured cases in Maharashtra in 2020."
   ]
  },
  {
   "cell_type": "code",
   "execution_count": 51,
   "metadata": {},
   "outputs": [
    {
     "data": {
      "image/png": "[encoded data removed]",
      "text/plain": [
       "<Figure size 936x576 with 1 Axes>"
      ]
     },
     "metadata": {
      "needs_background": "light"
     },
     "output_type": "display_data"
    }
   ],
   "source": [
    "plt.figure(figsize=(13,8))\n",
    "pp = sns.lineplot(data=date,x=\"Date\",y=\"Confirmed\",color=\"Blue\")\n",
    "pp = sns.lineplot(data=date,x=\"Date\",y=\"Cured\",color=\"Green\")\n",
    "pp = sns.lineplot(data=date,x=\"Date\",y=\"Deaths\",color=\"Red\")\n",
    "plt.legend(labels=[\"Confirmed\",\"Cured\",\"Deaths\"])\n",
    "plt.title(\"Confirmed cases,death cases and cured cases in Maharashtra in 2020.\",size=13)\n",
    "plt.show()"
   ]
  },
  {
   "cell_type": "markdown",
   "metadata": {},
   "source": [
    "<B>Data count per states</B>"
   ]
  },
  {
   "cell_type": "code",
   "execution_count": 52,
   "metadata": {},
   "outputs": [
    {
     "data": {
      "image/png": "[encoded data removed]",
      "text/plain": [
       "<Figure size 576x936 with 1 Axes>"
      ]
     },
     "metadata": {
      "needs_background": "light"
     },
     "output_type": "display_data"
    }
   ],
   "source": [
    "plt.figure(figsize=(8,13))\n",
    "sns.countplot(data=covid_df,y=\"States\",order=covid_df[\"States\"].value_counts().index,color=\"green\")\n",
    "plt.show()"
   ]
  },
  {
   "cell_type": "code",
   "execution_count": 53,
   "metadata": {},
   "outputs": [
    {
     "data": {
      "image/png": "[encoded data removed]",
      "text/plain": [
       "<Figure size 648x720 with 1 Axes>"
      ]
     },
     "metadata": {
      "needs_background": "light"
     },
     "output_type": "display_data"
    }
   ],
   "source": [
    "plt.figure(figsize=(9,10))\n",
    "sns.countplot(data=covid_df,y=\"States\")\n",
    "plt.show()"
   ]
  },
  {
   "cell_type": "code",
   "execution_count": null,
   "metadata": {},
   "outputs": [],
   "source": []
  }
 ],
 "metadata": {
  "kernelspec": {
   "display_name": "Python 3",
   "language": "python",
   "name": "python3"
  },
  "language_info": {
   "codemirror_mode": {
    "name": "ipython",
    "version": 3
   },
   "file_extension": ".py",
   "mimetype": "text/x-python",
   "name": "python",
   "nbconvert_exporter": "python",
   "pygments_lexer": "ipython3",
   "version": "3.8.5"
  }
 },
 "nbformat": 4,
 "nbformat_minor": 4
}
